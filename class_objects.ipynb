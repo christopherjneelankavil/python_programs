{
 "cells": [
  {
   "cell_type": "code",
   "execution_count": 4,
   "metadata": {},
   "outputs": [
    {
     "name": "stdout",
     "output_type": "stream",
     "text": [
      "Name2 is barking\n"
     ]
    }
   ],
   "source": [
    "class Dog:\n",
    "    # name = \"Name1\"\n",
    "    # color = \"Color1\"\n",
    "    def __init__(self,name,color):\n",
    "        # print(name,color)\n",
    "        # print(self.name,self.color)\n",
    "        self.name = name\n",
    "        self.color = color\n",
    "    def bark(self):\n",
    "        print(f'{self.name} is barking')\n",
    "\n",
    "dog1 = Dog(\"Name2\",\"Color2\")\n",
    "dog1.bark()"
   ]
  },
  {
   "cell_type": "code",
   "execution_count": 5,
   "metadata": {},
   "outputs": [],
   "source": [
    "class BankAccount:\n",
    "    def __init__(self,owner,balance = 0):\n",
    "        self.owner = owner\n",
    "        self.balance = balance\n",
    "        print(\"Account created successfully\")\n",
    "        print(f\"Account owner: {self.owner}\")\n",
    "    def deposit(self,amount):\n",
    "        self.balance += amount\n",
    "        print(f\"Added {amount} to the balance\")\n",
    "        print(f\"New balance is {self.balance}\")\n",
    "    def withdraw(self,amount):\n",
    "        if amount > self.balance:\n",
    "            print(\"Insufficient funds\")\n",
    "        else:\n",
    "            self.balance -= amount\n",
    "            print(f\"Withdrew {amount} from the balance\")\n",
    "            print(f\"New balance is {self.balance}\")\n",
    "    def checkBalance(self):\n",
    "        print(f\"Balance is {self.balance}\")\n",
    "\n"
   ]
  },
  {
   "cell_type": "code",
   "execution_count": 6,
   "metadata": {},
   "outputs": [
    {
     "name": "stdout",
     "output_type": "stream",
     "text": [
      "Account created successfully\n",
      "Account owner: Owner1\n"
     ]
    }
   ],
   "source": [
    "# create account\n",
    "\n",
    "account1 = BankAccount(\"Owner1\",100)"
   ]
  },
  {
   "cell_type": "code",
   "execution_count": 7,
   "metadata": {},
   "outputs": [
    {
     "name": "stdout",
     "output_type": "stream",
     "text": [
      "Added 50 to the balance\n",
      "New balance is 150\n"
     ]
    }
   ],
   "source": [
    "account1.deposit(50)"
   ]
  },
  {
   "cell_type": "code",
   "execution_count": 8,
   "metadata": {},
   "outputs": [
    {
     "name": "stdout",
     "output_type": "stream",
     "text": [
      "Withdrew 75 from the balance\n",
      "New balance is 75\n"
     ]
    }
   ],
   "source": [
    "account1.withdraw(75)"
   ]
  },
  {
   "cell_type": "code",
   "execution_count": 9,
   "metadata": {},
   "outputs": [
    {
     "name": "stdout",
     "output_type": "stream",
     "text": [
      "Balance is 75\n"
     ]
    }
   ],
   "source": [
    "account1.checkBalance()"
   ]
  }
 ],
 "metadata": {
  "kernelspec": {
   "display_name": "base",
   "language": "python",
   "name": "python3"
  },
  "language_info": {
   "codemirror_mode": {
    "name": "ipython",
    "version": 3
   },
   "file_extension": ".py",
   "mimetype": "text/x-python",
   "name": "python",
   "nbconvert_exporter": "python",
   "pygments_lexer": "ipython3",
   "version": "3.12.7"
  }
 },
 "nbformat": 4,
 "nbformat_minor": 2
}
