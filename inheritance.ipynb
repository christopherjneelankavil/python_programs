{
 "cells": [
  {
   "cell_type": "code",
   "execution_count": 8,
   "metadata": {},
   "outputs": [
    {
     "name": "stdout",
     "output_type": "stream",
     "text": [
      "Is electric: True\n",
      "Car has 4 doors, 5 seats and Electric engine\n"
     ]
    }
   ],
   "source": [
    "class Car:\n",
    "    def __init__(self,doors,seats,engine):\n",
    "        self.doors = doors\n",
    "        self.seats = seats\n",
    "        self.engine = engine\n",
    "    \n",
    "    def drive(self):\n",
    "        print(\"Car is driving\")\n",
    "    def details(self):\n",
    "        print(f\"Car has {self.doors} doors, {self.seats} seats and {self.engine} engine\")\n",
    "\n",
    "class ElectricCar(Car):\n",
    "    def __init__(self, doors, seats, engine, isElectric):\n",
    "        super().__init__(doors=doors, seats=seats, engine=engine)\n",
    "        self.isElectric = isElectric\n",
    "    \n",
    "    def printElectric(self):\n",
    "        print(f\"Is electric: {self.isElectric}\")\n",
    "        self.details()\n",
    "\n",
    "\n",
    "electric = ElectricCar(4,5,\"Electric\",True)\n",
    "electric.printElectric()\n"
   ]
  },
  {
   "cell_type": "code",
   "execution_count": 9,
   "metadata": {},
   "outputs": [
    {
     "name": "stdout",
     "output_type": "stream",
     "text": [
      "Dog is barking\n",
      "John\n"
     ]
    }
   ],
   "source": [
    "class Animal:\n",
    "    def __init__(self,name):\n",
    "        self.name = name\n",
    "    def speak(self):\n",
    "        print(\"Animal is speaking\")\n",
    "\n",
    "class Pet:\n",
    "    def __init__(self,owner):\n",
    "        self.owner = owner\n",
    "\n",
    "class Dog(Animal,Pet):\n",
    "    def __init__(self, name,owner):\n",
    "        Animal.__init__(self,name)\n",
    "        Pet.__init__(self,owner)\n",
    "\n",
    "    def speak(self):\n",
    "        print(\"Dog is barking\")\n",
    "\n",
    "dog = Dog(\"Rex\",\"John\")\n",
    "dog.speak()\n",
    "print(dog.owner)"
   ]
  }
 ],
 "metadata": {
  "kernelspec": {
   "display_name": "base",
   "language": "python",
   "name": "python3"
  },
  "language_info": {
   "codemirror_mode": {
    "name": "ipython",
    "version": 3
   },
   "file_extension": ".py",
   "mimetype": "text/x-python",
   "name": "python",
   "nbconvert_exporter": "python",
   "pygments_lexer": "ipython3",
   "version": "3.12.7"
  }
 },
 "nbformat": 4,
 "nbformat_minor": 2
}
